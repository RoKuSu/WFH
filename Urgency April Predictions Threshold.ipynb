{
 "cells": [
  {
   "cell_type": "code",
   "execution_count": null,
   "metadata": {
    "collapsed": true
   },
   "outputs": [],
   "source": [
    "import re\n",
    "import pandas as pd\n",
    "from tqdm import tqdm\n",
    "import wordninja\n",
    "tqdm.pandas()\n",
    "from nltk.tokenize import word_tokenize\n",
    "from nltk.corpus import stopwords\n",
    "from nltk.stem import WordNetLemmatizer"
   ]
  },
  {
   "cell_type": "code",
   "execution_count": 140,
   "metadata": {},
   "outputs": [
    {
     "data": {
      "text/html": [
       "<div>\n",
       "<style>\n",
       "    .dataframe thead tr:only-child th {\n",
       "        text-align: right;\n",
       "    }\n",
       "\n",
       "    .dataframe thead th {\n",
       "        text-align: left;\n",
       "    }\n",
       "\n",
       "    .dataframe tbody tr th {\n",
       "        vertical-align: top;\n",
       "    }\n",
       "</style>\n",
       "<table border=\"1\" class=\"dataframe\">\n",
       "  <thead>\n",
       "    <tr style=\"text-align: right;\">\n",
       "      <th></th>\n",
       "      <th>0</th>\n",
       "    </tr>\n",
       "  </thead>\n",
       "  <tbody>\n",
       "    <tr>\n",
       "      <th>0</th>\n",
       "      <td>receive  letter date  from   bank advise me t...</td>\n",
       "    </tr>\n",
       "    <tr>\n",
       "      <th>1</th>\n",
       "      <td>be try to apply for  loan to purchase  jet sk...</td>\n",
       "    </tr>\n",
       "    <tr>\n",
       "      <th>2</th>\n",
       "      <td>ex peri an and  be report incorrectly late pa...</td>\n",
       "    </tr>\n",
       "    <tr>\n",
       "      <th>3</th>\n",
       "      <td>open an acc  in my name  have attempt to get ...</td>\n",
       "    </tr>\n",
       "    <tr>\n",
       "      <th>4</th>\n",
       "      <td>cant understand how this be happen to me  hav...</td>\n",
       "    </tr>\n",
       "  </tbody>\n",
       "</table>\n",
       "</div>"
      ],
      "text/plain": [
       "                                                   0\n",
       "0   receive  letter date  from   bank advise me t...\n",
       "1   be try to apply for  loan to purchase  jet sk...\n",
       "2   ex peri an and  be report incorrectly late pa...\n",
       "3   open an acc  in my name  have attempt to get ...\n",
       "4   cant understand how this be happen to me  hav..."
      ]
     },
     "execution_count": 140,
     "metadata": {},
     "output_type": "execute_result"
    }
   ],
   "source": [
    "df = pd.read_csv('Urgency Prediction April.csv',header = None)\n",
    "df.head()"
   ]
  },
  {
   "cell_type": "code",
   "execution_count": 141,
   "metadata": {},
   "outputs": [
    {
     "name": "stderr",
     "output_type": "stream",
     "text": [
      "100%|██████████████████████████████████████████████████████████████████████████████████| 39/39 [01:56<00:00,  2.98s/it]\n"
     ]
    }
   ],
   "source": [
    "from monkeylearn import MonkeyLearn\n",
    "tag = []\n",
    "ml = MonkeyLearn('7ff205348bb68f29f60c911000f09a6dd418213f')\n",
    "for i in tqdm(range(len(df))):\n",
    "    data = [df[0][i]]\n",
    "    model_id = 'cl_Aiu8dfYF'\n",
    "    result = ml.classifiers.classify(model_id, data)\n",
    "    #print(i)\n",
    "    tag.append(result.body[0]['classifications'][0]['tag_name'])\n",
    "    #print(result.body)"
   ]
  },
  {
   "cell_type": "code",
   "execution_count": 142,
   "metadata": {},
   "outputs": [
    {
     "data": {
      "text/plain": [
       "['Not Urgent',\n",
       " 'Not Urgent',\n",
       " 'Not Urgent',\n",
       " 'Not Urgent',\n",
       " 'Not Urgent',\n",
       " 'Not Urgent',\n",
       " 'Not Urgent',\n",
       " 'Not Urgent',\n",
       " 'Not Urgent',\n",
       " 'Not Urgent',\n",
       " 'Not Urgent',\n",
       " 'Not Urgent',\n",
       " 'Not Urgent',\n",
       " 'Not Urgent',\n",
       " 'Not Urgent',\n",
       " 'Not Urgent',\n",
       " 'Not Urgent',\n",
       " 'Not Urgent',\n",
       " 'Not Urgent',\n",
       " 'Urgent',\n",
       " 'Urgent',\n",
       " 'Not Urgent',\n",
       " 'Not Urgent',\n",
       " 'Not Urgent',\n",
       " 'Not Urgent',\n",
       " 'Not Urgent',\n",
       " 'Urgent',\n",
       " 'Not Urgent',\n",
       " 'Not Urgent',\n",
       " 'Not Urgent',\n",
       " 'Not Urgent',\n",
       " 'Not Urgent',\n",
       " 'Not Urgent',\n",
       " 'Not Urgent',\n",
       " 'Not Urgent',\n",
       " 'Not Urgent',\n",
       " 'Not Urgent',\n",
       " 'Not Urgent',\n",
       " 'Not Urgent']"
      ]
     },
     "execution_count": 142,
     "metadata": {},
     "output_type": "execute_result"
    }
   ],
   "source": [
    "tag"
   ]
  },
  {
   "cell_type": "code",
   "execution_count": 1,
   "metadata": {
    "collapsed": true
   },
   "outputs": [],
   "source": [
    "import pandas as pd\n",
    "import re"
   ]
  },
  {
   "cell_type": "code",
   "execution_count": 3,
   "metadata": {},
   "outputs": [
    {
     "data": {
      "text/html": [
       "<div>\n",
       "<style>\n",
       "    .dataframe thead tr:only-child th {\n",
       "        text-align: right;\n",
       "    }\n",
       "\n",
       "    .dataframe thead th {\n",
       "        text-align: left;\n",
       "    }\n",
       "\n",
       "    .dataframe tbody tr th {\n",
       "        vertical-align: top;\n",
       "    }\n",
       "</style>\n",
       "<table border=\"1\" class=\"dataframe\">\n",
       "  <thead>\n",
       "    <tr style=\"text-align: right;\">\n",
       "      <th></th>\n",
       "      <th>Consumer complaint narrative</th>\n",
       "      <th>Urgency</th>\n",
       "      <th>Model Prediction</th>\n",
       "      <th>Clean Data</th>\n",
       "      <th>Threshold</th>\n",
       "      <th>True Label</th>\n",
       "    </tr>\n",
       "  </thead>\n",
       "  <tbody>\n",
       "    <tr>\n",
       "      <th>0</th>\n",
       "      <td>I am a Macys cardholder since XXXX. I went to ...</td>\n",
       "      <td>NotUrgent</td>\n",
       "      <td>0.048910</td>\n",
       "      <td>be  macy  card holder since   go to store to ...</td>\n",
       "      <td>0</td>\n",
       "      <td>0</td>\n",
       "    </tr>\n",
       "    <tr>\n",
       "      <th>1</th>\n",
       "      <td>URGENT. APPLYING FOR HOME LOAN. CREDIT SCORE I...</td>\n",
       "      <td>NotUrgent</td>\n",
       "      <td>0.301581</td>\n",
       "      <td>urgent apply for home loan credit score impact...</td>\n",
       "      <td>0</td>\n",
       "      <td>0</td>\n",
       "    </tr>\n",
       "    <tr>\n",
       "      <th>2</th>\n",
       "      <td>MY NAME IS XXXX XXXX, I HAVE BEEN DOING BUSINE...</td>\n",
       "      <td>NotUrgent</td>\n",
       "      <td>0.055524</td>\n",
       "      <td>my name be    have be do business with     for...</td>\n",
       "      <td>0</td>\n",
       "      <td>0</td>\n",
       "    </tr>\n",
       "    <tr>\n",
       "      <th>3</th>\n",
       "      <td>This company has sent no validation/ contract ...</td>\n",
       "      <td>NotUrgent</td>\n",
       "      <td>0.043886</td>\n",
       "      <td>this company have send no validation contract ...</td>\n",
       "      <td>0</td>\n",
       "      <td>0</td>\n",
       "    </tr>\n",
       "    <tr>\n",
       "      <th>4</th>\n",
       "      <td>Wells Fargo Bank has opened unauthorized check...</td>\n",
       "      <td>NotUrgent</td>\n",
       "      <td>0.000083</td>\n",
       "      <td>well fargo bank have open unauthorized check a...</td>\n",
       "      <td>0</td>\n",
       "      <td>0</td>\n",
       "    </tr>\n",
       "  </tbody>\n",
       "</table>\n",
       "</div>"
      ],
      "text/plain": [
       "                        Consumer complaint narrative    Urgency  \\\n",
       "0  I am a Macys cardholder since XXXX. I went to ...  NotUrgent   \n",
       "1  URGENT. APPLYING FOR HOME LOAN. CREDIT SCORE I...  NotUrgent   \n",
       "2  MY NAME IS XXXX XXXX, I HAVE BEEN DOING BUSINE...  NotUrgent   \n",
       "3  This company has sent no validation/ contract ...  NotUrgent   \n",
       "4  Wells Fargo Bank has opened unauthorized check...  NotUrgent   \n",
       "\n",
       "   Model Prediction                                         Clean Data  \\\n",
       "0          0.048910   be  macy  card holder since   go to store to ...   \n",
       "1          0.301581  urgent apply for home loan credit score impact...   \n",
       "2          0.055524  my name be    have be do business with     for...   \n",
       "3          0.043886  this company have send no validation contract ...   \n",
       "4          0.000083  well fargo bank have open unauthorized check a...   \n",
       "\n",
       "   Threshold  True Label  \n",
       "0          0           0  \n",
       "1          0           0  \n",
       "2          0           0  \n",
       "3          0           0  \n",
       "4          0           0  "
      ]
     },
     "execution_count": 3,
     "metadata": {},
     "output_type": "execute_result"
    }
   ],
   "source": [
    "df = pd.read_csv('C:/Users/samarth152721/Desktop/Urgency April Prediction Final.csv')\n",
    "df.head()"
   ]
  },
  {
   "cell_type": "code",
   "execution_count": 151,
   "metadata": {
    "collapsed": true
   },
   "outputs": [],
   "source": [
    "def clean(text):\n",
    "    text = re.sub('[^a-zA-Z]','',text)\n",
    "    return text"
   ]
  },
  {
   "cell_type": "code",
   "execution_count": 153,
   "metadata": {
    "collapsed": true
   },
   "outputs": [],
   "source": [
    "df['Urgency'] = df['Urgency'].apply(clean)"
   ]
  },
  {
   "cell_type": "code",
   "execution_count": 154,
   "metadata": {
    "collapsed": true
   },
   "outputs": [],
   "source": [
    "df.to_csv('Urgency April Prediction.csv',index = False)"
   ]
  },
  {
   "cell_type": "code",
   "execution_count": 2,
   "metadata": {},
   "outputs": [
    {
     "name": "stderr",
     "output_type": "stream",
     "text": [
      "C:\\ProgramData\\Anaconda3\\lib\\site-packages\\h5py\\__init__.py:34: FutureWarning: Conversion of the second argument of issubdtype from `float` to `np.floating` is deprecated. In future, it will be treated as `np.float64 == np.dtype(float).type`.\n",
      "  from ._conv import register_converters as _register_converters\n"
     ]
    }
   ],
   "source": [
    "from tensorflow.keras.models import load_model\n",
    "from tensorflow.keras.preprocessing.text import Tokenizer\n",
    "from tensorflow.keras.preprocessing.sequence import pad_sequences\n",
    "from tqdm import tqdm\n",
    "tqdm.pandas()\n",
    "import pickle"
   ]
  },
  {
   "cell_type": "code",
   "execution_count": 3,
   "metadata": {},
   "outputs": [
    {
     "data": {
      "text/html": [
       "<div>\n",
       "<style>\n",
       "    .dataframe thead tr:only-child th {\n",
       "        text-align: right;\n",
       "    }\n",
       "\n",
       "    .dataframe thead th {\n",
       "        text-align: left;\n",
       "    }\n",
       "\n",
       "    .dataframe tbody tr th {\n",
       "        vertical-align: top;\n",
       "    }\n",
       "</style>\n",
       "<table border=\"1\" class=\"dataframe\">\n",
       "  <thead>\n",
       "    <tr style=\"text-align: right;\">\n",
       "      <th></th>\n",
       "      <th>Consumer complaint narrative</th>\n",
       "      <th>Urgency</th>\n",
       "      <th>Model Prediction</th>\n",
       "      <th>Clean Data</th>\n",
       "      <th>True Label</th>\n",
       "      <th>Threshold</th>\n",
       "      <th>Threshold 0.56</th>\n",
       "    </tr>\n",
       "  </thead>\n",
       "  <tbody>\n",
       "    <tr>\n",
       "      <th>0</th>\n",
       "      <td>I am a Macys cardholder since XXXX. I went to ...</td>\n",
       "      <td>NotUrgent</td>\n",
       "      <td>0.048910</td>\n",
       "      <td>be  macy  card holder since   go to store to ...</td>\n",
       "      <td>0</td>\n",
       "      <td>0</td>\n",
       "      <td>0</td>\n",
       "    </tr>\n",
       "    <tr>\n",
       "      <th>1</th>\n",
       "      <td>URGENT. APPLYING FOR HOME LOAN. CREDIT SCORE I...</td>\n",
       "      <td>NotUrgent</td>\n",
       "      <td>0.301581</td>\n",
       "      <td>urgent apply for home loan credit score impact...</td>\n",
       "      <td>0</td>\n",
       "      <td>0</td>\n",
       "      <td>0</td>\n",
       "    </tr>\n",
       "    <tr>\n",
       "      <th>2</th>\n",
       "      <td>MY NAME IS XXXX XXXX, I HAVE BEEN DOING BUSINE...</td>\n",
       "      <td>NotUrgent</td>\n",
       "      <td>0.055524</td>\n",
       "      <td>my name be    have be do business with     for...</td>\n",
       "      <td>0</td>\n",
       "      <td>0</td>\n",
       "      <td>0</td>\n",
       "    </tr>\n",
       "    <tr>\n",
       "      <th>3</th>\n",
       "      <td>This company has sent no validation/ contract ...</td>\n",
       "      <td>NotUrgent</td>\n",
       "      <td>0.043886</td>\n",
       "      <td>this company have send no validation contract ...</td>\n",
       "      <td>0</td>\n",
       "      <td>0</td>\n",
       "      <td>0</td>\n",
       "    </tr>\n",
       "    <tr>\n",
       "      <th>4</th>\n",
       "      <td>Wells Fargo Bank has opened unauthorized check...</td>\n",
       "      <td>NotUrgent</td>\n",
       "      <td>0.000083</td>\n",
       "      <td>well fargo bank have open unauthorized check a...</td>\n",
       "      <td>0</td>\n",
       "      <td>0</td>\n",
       "      <td>0</td>\n",
       "    </tr>\n",
       "  </tbody>\n",
       "</table>\n",
       "</div>"
      ],
      "text/plain": [
       "                        Consumer complaint narrative    Urgency  \\\n",
       "0  I am a Macys cardholder since XXXX. I went to ...  NotUrgent   \n",
       "1  URGENT. APPLYING FOR HOME LOAN. CREDIT SCORE I...  NotUrgent   \n",
       "2  MY NAME IS XXXX XXXX, I HAVE BEEN DOING BUSINE...  NotUrgent   \n",
       "3  This company has sent no validation/ contract ...  NotUrgent   \n",
       "4  Wells Fargo Bank has opened unauthorized check...  NotUrgent   \n",
       "\n",
       "   Model Prediction                                         Clean Data  \\\n",
       "0          0.048910   be  macy  card holder since   go to store to ...   \n",
       "1          0.301581  urgent apply for home loan credit score impact...   \n",
       "2          0.055524  my name be    have be do business with     for...   \n",
       "3          0.043886  this company have send no validation contract ...   \n",
       "4          0.000083  well fargo bank have open unauthorized check a...   \n",
       "\n",
       "   True Label  Threshold  Threshold 0.56  \n",
       "0           0          0               0  \n",
       "1           0          0               0  \n",
       "2           0          0               0  \n",
       "3           0          0               0  \n",
       "4           0          0               0  "
      ]
     },
     "execution_count": 3,
     "metadata": {},
     "output_type": "execute_result"
    }
   ],
   "source": [
    "df = pd.read_csv('C:/Users/samarth152721/Desktop/POC/Final Training Data/Urgency April Prediction Final.csv')\n",
    "df.head()"
   ]
  },
  {
   "cell_type": "code",
   "execution_count": 4,
   "metadata": {
    "collapsed": true
   },
   "outputs": [],
   "source": [
    "urgency_model = load_model('C:/Users/samarth152721/Desktop/POC/Final models/model_word2vec_more_more_urgent_clean.h5')\n",
    "urgency_tokenizer = Tokenizer()\n",
    "with open('C:/Users/samarth152721/Desktop/POC/Final models/tokenizer_word2vec_more_more_urgent.pickle', 'rb') as handle:\n",
    "    urgency_tokenizer = pickle.load(handle)"
   ]
  },
  {
   "cell_type": "code",
   "execution_count": 48,
   "metadata": {},
   "outputs": [
    {
     "name": "stderr",
     "output_type": "stream",
     "text": [
      "100%|████████████████████████████████████████████████████████████████████████████████| 660/660 [01:29<00:00,  7.37it/s]\n"
     ]
    }
   ],
   "source": [
    "def urgency_prediction(text):\n",
    "    #text = urgency_cleaning(text)\n",
    "    b = urgency_tokenizer.texts_to_sequences([text])\n",
    "    b_pad = pad_sequences(b,maxlen = 500,padding='post',truncating='pre')\n",
    "    results = urgency_model.predict(b_pad)\n",
    "    return results[0][0]\n",
    "    \n",
    "df['New Prediction'] = df['Clean Data'].progress_apply(urgency_prediction)"
   ]
  },
  {
   "cell_type": "code",
   "execution_count": null,
   "metadata": {
    "collapsed": true
   },
   "outputs": [],
   "source": [
    "urgency_prediction('This is a ')"
   ]
  },
  {
   "cell_type": "code",
   "execution_count": 13,
   "metadata": {},
   "outputs": [
    {
     "data": {
      "text/html": [
       "<div>\n",
       "<style>\n",
       "    .dataframe thead tr:only-child th {\n",
       "        text-align: right;\n",
       "    }\n",
       "\n",
       "    .dataframe thead th {\n",
       "        text-align: left;\n",
       "    }\n",
       "\n",
       "    .dataframe tbody tr th {\n",
       "        vertical-align: top;\n",
       "    }\n",
       "</style>\n",
       "<table border=\"1\" class=\"dataframe\">\n",
       "  <thead>\n",
       "    <tr style=\"text-align: right;\">\n",
       "      <th></th>\n",
       "      <th>Consumer complaint narrative</th>\n",
       "      <th>Urgency</th>\n",
       "      <th>Model Prediction</th>\n",
       "      <th>Clean Data</th>\n",
       "      <th>True Label</th>\n",
       "      <th>Threshold</th>\n",
       "      <th>Threshold 0.56</th>\n",
       "      <th>New Encoding</th>\n",
       "    </tr>\n",
       "  </thead>\n",
       "  <tbody>\n",
       "    <tr>\n",
       "      <th>0</th>\n",
       "      <td>I am a Macys cardholder since XXXX. I went to ...</td>\n",
       "      <td>NotUrgent</td>\n",
       "      <td>0.048910</td>\n",
       "      <td>be  macy  card holder since   go to store to ...</td>\n",
       "      <td>0</td>\n",
       "      <td>0</td>\n",
       "      <td>0</td>\n",
       "      <td>0</td>\n",
       "    </tr>\n",
       "    <tr>\n",
       "      <th>1</th>\n",
       "      <td>URGENT. APPLYING FOR HOME LOAN. CREDIT SCORE I...</td>\n",
       "      <td>NotUrgent</td>\n",
       "      <td>0.301581</td>\n",
       "      <td>urgent apply for home loan credit score impact...</td>\n",
       "      <td>0</td>\n",
       "      <td>0</td>\n",
       "      <td>0</td>\n",
       "      <td>1</td>\n",
       "    </tr>\n",
       "    <tr>\n",
       "      <th>2</th>\n",
       "      <td>MY NAME IS XXXX XXXX, I HAVE BEEN DOING BUSINE...</td>\n",
       "      <td>NotUrgent</td>\n",
       "      <td>0.055524</td>\n",
       "      <td>my name be    have be do business with     for...</td>\n",
       "      <td>0</td>\n",
       "      <td>0</td>\n",
       "      <td>0</td>\n",
       "      <td>0</td>\n",
       "    </tr>\n",
       "    <tr>\n",
       "      <th>3</th>\n",
       "      <td>This company has sent no validation/ contract ...</td>\n",
       "      <td>NotUrgent</td>\n",
       "      <td>0.043886</td>\n",
       "      <td>this company have send no validation contract ...</td>\n",
       "      <td>0</td>\n",
       "      <td>0</td>\n",
       "      <td>0</td>\n",
       "      <td>0</td>\n",
       "    </tr>\n",
       "    <tr>\n",
       "      <th>4</th>\n",
       "      <td>Wells Fargo Bank has opened unauthorized check...</td>\n",
       "      <td>NotUrgent</td>\n",
       "      <td>0.000083</td>\n",
       "      <td>well fargo bank have open unauthorized check a...</td>\n",
       "      <td>0</td>\n",
       "      <td>0</td>\n",
       "      <td>0</td>\n",
       "      <td>0</td>\n",
       "    </tr>\n",
       "    <tr>\n",
       "      <th>5</th>\n",
       "      <td>ftc violations</td>\n",
       "      <td>NotUrgent</td>\n",
       "      <td>0.270713</td>\n",
       "      <td>ft  violations</td>\n",
       "      <td>0</td>\n",
       "      <td>0</td>\n",
       "      <td>0</td>\n",
       "      <td>0</td>\n",
       "    </tr>\n",
       "    <tr>\n",
       "      <th>6</th>\n",
       "      <td>Dear Sir/Madam : I have repeatedly reached out...</td>\n",
       "      <td>Urgent</td>\n",
       "      <td>0.288307</td>\n",
       "      <td>dear sir madam  have repeatedly reach out to t...</td>\n",
       "      <td>1</td>\n",
       "      <td>0</td>\n",
       "      <td>0</td>\n",
       "      <td>0</td>\n",
       "    </tr>\n",
       "    <tr>\n",
       "      <th>7</th>\n",
       "      <td>I signed up for TransUnion so I could get my f...</td>\n",
       "      <td>NotUrgent</td>\n",
       "      <td>0.001989</td>\n",
       "      <td>sign up for trans union so  could get my free...</td>\n",
       "      <td>0</td>\n",
       "      <td>0</td>\n",
       "      <td>0</td>\n",
       "      <td>0</td>\n",
       "    </tr>\n",
       "    <tr>\n",
       "      <th>8</th>\n",
       "      <td>On XX/XX/XXXX I began getting emails from Barc...</td>\n",
       "      <td>Urgent</td>\n",
       "      <td>0.299799</td>\n",
       "      <td>on   begin get email from barclays indicate th...</td>\n",
       "      <td>1</td>\n",
       "      <td>0</td>\n",
       "      <td>0</td>\n",
       "      <td>0</td>\n",
       "    </tr>\n",
       "    <tr>\n",
       "      <th>9</th>\n",
       "      <td>The Credit reports from the three predominant ...</td>\n",
       "      <td>NotUrgent</td>\n",
       "      <td>0.009600</td>\n",
       "      <td>the credit report from the three predominant c...</td>\n",
       "      <td>0</td>\n",
       "      <td>0</td>\n",
       "      <td>0</td>\n",
       "      <td>0</td>\n",
       "    </tr>\n",
       "  </tbody>\n",
       "</table>\n",
       "</div>"
      ],
      "text/plain": [
       "                        Consumer complaint narrative    Urgency  \\\n",
       "0  I am a Macys cardholder since XXXX. I went to ...  NotUrgent   \n",
       "1  URGENT. APPLYING FOR HOME LOAN. CREDIT SCORE I...  NotUrgent   \n",
       "2  MY NAME IS XXXX XXXX, I HAVE BEEN DOING BUSINE...  NotUrgent   \n",
       "3  This company has sent no validation/ contract ...  NotUrgent   \n",
       "4  Wells Fargo Bank has opened unauthorized check...  NotUrgent   \n",
       "5                                     ftc violations  NotUrgent   \n",
       "6  Dear Sir/Madam : I have repeatedly reached out...     Urgent   \n",
       "7  I signed up for TransUnion so I could get my f...  NotUrgent   \n",
       "8  On XX/XX/XXXX I began getting emails from Barc...     Urgent   \n",
       "9  The Credit reports from the three predominant ...  NotUrgent   \n",
       "\n",
       "   Model Prediction                                         Clean Data  \\\n",
       "0          0.048910   be  macy  card holder since   go to store to ...   \n",
       "1          0.301581  urgent apply for home loan credit score impact...   \n",
       "2          0.055524  my name be    have be do business with     for...   \n",
       "3          0.043886  this company have send no validation contract ...   \n",
       "4          0.000083  well fargo bank have open unauthorized check a...   \n",
       "5          0.270713                                     ft  violations   \n",
       "6          0.288307  dear sir madam  have repeatedly reach out to t...   \n",
       "7          0.001989   sign up for trans union so  could get my free...   \n",
       "8          0.299799  on   begin get email from barclays indicate th...   \n",
       "9          0.009600  the credit report from the three predominant c...   \n",
       "\n",
       "   True Label  Threshold  Threshold 0.56  New Encoding  \n",
       "0           0          0               0             0  \n",
       "1           0          0               0             1  \n",
       "2           0          0               0             0  \n",
       "3           0          0               0             0  \n",
       "4           0          0               0             0  \n",
       "5           0          0               0             0  \n",
       "6           1          0               0             0  \n",
       "7           0          0               0             0  \n",
       "8           1          0               0             0  \n",
       "9           0          0               0             0  "
      ]
     },
     "execution_count": 13,
     "metadata": {},
     "output_type": "execute_result"
    }
   ],
   "source": [
    "df.head(10)"
   ]
  },
  {
   "cell_type": "code",
   "execution_count": 5,
   "metadata": {
    "collapsed": true
   },
   "outputs": [],
   "source": [
    "def encoding(text):\n",
    "    if text>0.117:\n",
    "        return 1\n",
    "    else:\n",
    "        return 0"
   ]
  },
  {
   "cell_type": "code",
   "execution_count": 6,
   "metadata": {
    "collapsed": true
   },
   "outputs": [],
   "source": [
    "df['New Encoding'] = df['Model Prediction'].apply(encoding)"
   ]
  },
  {
   "cell_type": "code",
   "execution_count": 7,
   "metadata": {
    "collapsed": true
   },
   "outputs": [],
   "source": [
    "from sklearn.metrics import classification_report,confusion_matrix,accuracy_score\n",
    "from sklearn.metrics import f1_score,precision_score,recall_score\n",
    "import numpy as np"
   ]
  },
  {
   "cell_type": "code",
   "execution_count": 8,
   "metadata": {
    "collapsed": true
   },
   "outputs": [],
   "source": [
    "y_test = df['True Label'].values\n",
    "predictions = df['Model Prediction'].values"
   ]
  },
  {
   "cell_type": "code",
   "execution_count": 9,
   "metadata": {},
   "outputs": [
    {
     "name": "stdout",
     "output_type": "stream",
     "text": [
      "              precision    recall  f1-score   support\n",
      "\n",
      "           0       0.99      0.85      0.91       607\n",
      "           1       0.34      0.92      0.50        53\n",
      "\n",
      "    accuracy                           0.85       660\n",
      "   macro avg       0.67      0.88      0.71       660\n",
      "weighted avg       0.94      0.85      0.88       660\n",
      "\n"
     ]
    }
   ],
   "source": [
    "print(classification_report(y_test,df['New Encoding']))"
   ]
  },
  {
   "cell_type": "code",
   "execution_count": 10,
   "metadata": {},
   "outputs": [
    {
     "name": "stdout",
     "output_type": "stream",
     "text": [
      "Recall Score at threshold 0.0 is 1.0\n",
      "Recall Score at threshold 0.01 is 1.0\n",
      "Recall Score at threshold 0.02 is 1.0\n",
      "Recall Score at threshold 0.03 is 0.9811320754716981\n",
      "Recall Score at threshold 0.04 is 0.9622641509433962\n",
      "Recall Score at threshold 0.05 is 0.9622641509433962\n",
      "Recall Score at threshold 0.06 is 0.9245283018867925\n",
      "Recall Score at threshold 0.07 is 0.9245283018867925\n",
      "Recall Score at threshold 0.08 is 0.9245283018867925\n",
      "Recall Score at threshold 0.09 is 0.9245283018867925\n",
      "Recall Score at threshold 0.1 is 0.9245283018867925\n",
      "Recall Score at threshold 0.11 is 0.9245283018867925\n",
      "Recall Score at threshold 0.12 is 0.9056603773584906\n",
      "Recall Score at threshold 0.13 is 0.8867924528301887\n",
      "Recall Score at threshold 0.14 is 0.8867924528301887\n",
      "Recall Score at threshold 0.15 is 0.8867924528301887\n",
      "Recall Score at threshold 0.16 is 0.8679245283018868\n",
      "Recall Score at threshold 0.17 is 0.8490566037735849\n",
      "Recall Score at threshold 0.18 is 0.8490566037735849\n",
      "Recall Score at threshold 0.19 is 0.8301886792452831\n",
      "Recall Score at threshold 0.2 is 0.8113207547169812\n",
      "Recall Score at threshold 0.21 is 0.8113207547169812\n",
      "Recall Score at threshold 0.22 is 0.7924528301886793\n",
      "Recall Score at threshold 0.23 is 0.7924528301886793\n",
      "Recall Score at threshold 0.24 is 0.7924528301886793\n",
      "Recall Score at threshold 0.25 is 0.7547169811320755\n",
      "Recall Score at threshold 0.26 is 0.7547169811320755\n",
      "Recall Score at threshold 0.27 is 0.7358490566037735\n",
      "Recall Score at threshold 0.28 is 0.7358490566037735\n",
      "Recall Score at threshold 0.29 is 0.6981132075471698\n",
      "Recall Score at threshold 0.3 is 0.6792452830188679\n",
      "Recall Score at threshold 0.31 is 0.660377358490566\n",
      "Recall Score at threshold 0.32 is 0.660377358490566\n",
      "Recall Score at threshold 0.33 is 0.660377358490566\n",
      "Recall Score at threshold 0.34 is 0.660377358490566\n",
      "Recall Score at threshold 0.35 is 0.660377358490566\n",
      "Recall Score at threshold 0.36 is 0.6226415094339622\n",
      "Recall Score at threshold 0.37 is 0.6226415094339622\n",
      "Recall Score at threshold 0.38 is 0.6226415094339622\n",
      "Recall Score at threshold 0.39 is 0.6226415094339622\n",
      "Recall Score at threshold 0.4 is 0.6226415094339622\n",
      "Recall Score at threshold 0.41 is 0.6226415094339622\n",
      "Recall Score at threshold 0.42 is 0.6226415094339622\n",
      "Recall Score at threshold 0.43 is 0.6226415094339622\n",
      "Recall Score at threshold 0.44 is 0.6037735849056604\n",
      "Recall Score at threshold 0.45 is 0.6037735849056604\n",
      "Recall Score at threshold 0.46 is 0.6037735849056604\n",
      "Recall Score at threshold 0.47 is 0.6037735849056604\n",
      "Recall Score at threshold 0.48 is 0.6037735849056604\n",
      "Recall Score at threshold 0.49 is 0.6037735849056604\n",
      "Recall Score at threshold 0.5 is 0.6037735849056604\n",
      "Recall Score at threshold 0.51 is 0.6037735849056604\n",
      "Recall Score at threshold 0.52 is 0.6037735849056604\n",
      "Recall Score at threshold 0.53 is 0.6037735849056604\n",
      "Recall Score at threshold 0.54 is 0.6037735849056604\n",
      "Recall Score at threshold 0.55 is 0.5849056603773585\n",
      "Recall Score at threshold 0.56 is 0.5660377358490566\n",
      "Recall Score at threshold 0.57 is 0.5660377358490566\n",
      "Recall Score at threshold 0.58 is 0.5660377358490566\n",
      "Recall Score at threshold 0.59 is 0.5660377358490566\n",
      "Recall Score at threshold 0.6 is 0.5660377358490566\n",
      "Recall Score at threshold 0.61 is 0.5660377358490566\n",
      "Recall Score at threshold 0.62 is 0.5660377358490566\n",
      "Recall Score at threshold 0.63 is 0.5660377358490566\n",
      "Recall Score at threshold 0.64 is 0.5660377358490566\n",
      "Recall Score at threshold 0.65 is 0.5471698113207547\n",
      "Recall Score at threshold 0.66 is 0.5471698113207547\n",
      "Recall Score at threshold 0.67 is 0.5471698113207547\n",
      "Recall Score at threshold 0.68 is 0.5471698113207547\n",
      "Recall Score at threshold 0.69 is 0.5471698113207547\n",
      "Recall Score at threshold 0.7 is 0.5471698113207547\n",
      "Recall Score at threshold 0.71 is 0.5471698113207547\n",
      "Recall Score at threshold 0.72 is 0.5094339622641509\n",
      "Recall Score at threshold 0.73 is 0.49056603773584906\n",
      "Recall Score at threshold 0.74 is 0.4716981132075472\n",
      "Recall Score at threshold 0.75 is 0.4716981132075472\n",
      "Recall Score at threshold 0.76 is 0.4528301886792453\n",
      "Recall Score at threshold 0.77 is 0.4528301886792453\n",
      "Recall Score at threshold 0.78 is 0.4528301886792453\n",
      "Recall Score at threshold 0.79 is 0.4339622641509434\n",
      "Recall Score at threshold 0.8 is 0.39622641509433965\n",
      "Recall Score at threshold 0.81 is 0.37735849056603776\n",
      "Recall Score at threshold 0.82 is 0.37735849056603776\n",
      "Recall Score at threshold 0.83 is 0.37735849056603776\n",
      "Recall Score at threshold 0.84 is 0.37735849056603776\n",
      "Recall Score at threshold 0.85 is 0.37735849056603776\n",
      "Recall Score at threshold 0.86 is 0.37735849056603776\n",
      "Recall Score at threshold 0.87 is 0.33962264150943394\n",
      "Recall Score at threshold 0.88 is 0.33962264150943394\n",
      "Recall Score at threshold 0.89 is 0.33962264150943394\n"
     ]
    }
   ],
   "source": [
    "recall = []\n",
    "for thresh in np.arange(0,0.9,0.01):\n",
    "    thresh = np.round(thresh,2)\n",
    "    print('Recall Score at threshold {0} is {1}'.format(thresh,recall_score(y_test,(predictions>thresh).astype(int))))\n",
    "    recall.append(recall_score(y_test,(predictions>thresh).astype(int)))"
   ]
  },
  {
   "cell_type": "code",
   "execution_count": 11,
   "metadata": {},
   "outputs": [
    {
     "name": "stdout",
     "output_type": "stream",
     "text": [
      "Precision Score at threshold 0.0 is 0.0803030303030303\n",
      "Precision Score at threshold 0.01 is 0.17096774193548386\n",
      "Precision Score at threshold 0.02 is 0.20306513409961685\n",
      "Precision Score at threshold 0.03 is 0.22807017543859648\n",
      "Precision Score at threshold 0.04 is 0.23943661971830985\n",
      "Precision Score at threshold 0.05 is 0.2602040816326531\n",
      "Precision Score at threshold 0.06 is 0.26063829787234044\n",
      "Precision Score at threshold 0.07 is 0.2784090909090909\n",
      "Precision Score at threshold 0.08 is 0.2916666666666667\n",
      "Precision Score at threshold 0.09 is 0.3081761006289308\n",
      "Precision Score at threshold 0.1 is 0.3161290322580645\n",
      "Precision Score at threshold 0.11 is 0.3310810810810811\n",
      "Precision Score at threshold 0.12 is 0.3404255319148936\n",
      "Precision Score at threshold 0.13 is 0.3560606060606061\n",
      "Precision Score at threshold 0.14 is 0.36153846153846153\n",
      "Precision Score at threshold 0.15 is 0.3643410852713178\n",
      "Precision Score at threshold 0.16 is 0.36220472440944884\n",
      "Precision Score at threshold 0.17 is 0.375\n",
      "Precision Score at threshold 0.18 is 0.375\n",
      "Precision Score at threshold 0.19 is 0.3793103448275862\n",
      "Precision Score at threshold 0.2 is 0.39090909090909093\n",
      "Precision Score at threshold 0.21 is 0.40186915887850466\n",
      "Precision Score at threshold 0.22 is 0.4\n",
      "Precision Score at threshold 0.23 is 0.40384615384615385\n",
      "Precision Score at threshold 0.24 is 0.4117647058823529\n",
      "Precision Score at threshold 0.25 is 0.41237113402061853\n",
      "Precision Score at threshold 0.26 is 0.42105263157894735\n",
      "Precision Score at threshold 0.27 is 0.42857142857142855\n",
      "Precision Score at threshold 0.28 is 0.4431818181818182\n",
      "Precision Score at threshold 0.29 is 0.44047619047619047\n",
      "Precision Score at threshold 0.3 is 0.43902439024390244\n",
      "Precision Score at threshold 0.31 is 0.45454545454545453\n",
      "Precision Score at threshold 0.32 is 0.4605263157894737\n",
      "Precision Score at threshold 0.33 is 0.4666666666666667\n",
      "Precision Score at threshold 0.34 is 0.4666666666666667\n",
      "Precision Score at threshold 0.35 is 0.4666666666666667\n",
      "Precision Score at threshold 0.36 is 0.4583333333333333\n",
      "Precision Score at threshold 0.37 is 0.4714285714285714\n",
      "Precision Score at threshold 0.38 is 0.4852941176470588\n",
      "Precision Score at threshold 0.39 is 0.4852941176470588\n",
      "Precision Score at threshold 0.4 is 0.4852941176470588\n",
      "Precision Score at threshold 0.41 is 0.5\n",
      "Precision Score at threshold 0.42 is 0.5\n",
      "Precision Score at threshold 0.43 is 0.5\n",
      "Precision Score at threshold 0.44 is 0.49230769230769234\n",
      "Precision Score at threshold 0.45 is 0.5\n",
      "Precision Score at threshold 0.46 is 0.5245901639344263\n",
      "Precision Score at threshold 0.47 is 0.5333333333333333\n",
      "Precision Score at threshold 0.48 is 0.5423728813559322\n",
      "Precision Score at threshold 0.49 is 0.5423728813559322\n",
      "Precision Score at threshold 0.5 is 0.5614035087719298\n",
      "Precision Score at threshold 0.51 is 0.5714285714285714\n",
      "Precision Score at threshold 0.52 is 0.5818181818181818\n",
      "Precision Score at threshold 0.53 is 0.5925925925925926\n",
      "Precision Score at threshold 0.54 is 0.6037735849056604\n",
      "Precision Score at threshold 0.55 is 0.62\n",
      "Precision Score at threshold 0.56 is 0.6122448979591837\n",
      "Precision Score at threshold 0.57 is 0.6122448979591837\n",
      "Precision Score at threshold 0.58 is 0.6122448979591837\n",
      "Precision Score at threshold 0.59 is 0.625\n",
      "Precision Score at threshold 0.6 is 0.625\n",
      "Precision Score at threshold 0.61 is 0.6382978723404256\n",
      "Precision Score at threshold 0.62 is 0.6666666666666666\n",
      "Precision Score at threshold 0.63 is 0.6666666666666666\n",
      "Precision Score at threshold 0.64 is 0.6976744186046512\n",
      "Precision Score at threshold 0.65 is 0.7073170731707317\n",
      "Precision Score at threshold 0.66 is 0.7073170731707317\n",
      "Precision Score at threshold 0.67 is 0.725\n",
      "Precision Score at threshold 0.68 is 0.725\n",
      "Precision Score at threshold 0.69 is 0.725\n",
      "Precision Score at threshold 0.7 is 0.725\n",
      "Precision Score at threshold 0.71 is 0.7435897435897436\n",
      "Precision Score at threshold 0.72 is 0.75\n",
      "Precision Score at threshold 0.73 is 0.7428571428571429\n",
      "Precision Score at threshold 0.74 is 0.7575757575757576\n",
      "Precision Score at threshold 0.75 is 0.78125\n",
      "Precision Score at threshold 0.76 is 0.8\n",
      "Precision Score at threshold 0.77 is 0.8275862068965517\n",
      "Precision Score at threshold 0.78 is 0.8888888888888888\n",
      "Precision Score at threshold 0.79 is 0.92\n",
      "Precision Score at threshold 0.8 is 0.9130434782608695\n",
      "Precision Score at threshold 0.81 is 0.9090909090909091\n",
      "Precision Score at threshold 0.82 is 0.9090909090909091\n",
      "Precision Score at threshold 0.83 is 0.9090909090909091\n",
      "Precision Score at threshold 0.84 is 0.9090909090909091\n",
      "Precision Score at threshold 0.85 is 0.9090909090909091\n",
      "Precision Score at threshold 0.86 is 0.9090909090909091\n",
      "Precision Score at threshold 0.87 is 0.9\n",
      "Precision Score at threshold 0.88 is 0.9\n",
      "Precision Score at threshold 0.89 is 0.9\n"
     ]
    }
   ],
   "source": [
    "precision = []\n",
    "for thresh in np.arange(0,0.9,0.01):\n",
    "    thresh = np.round(thresh,2)\n",
    "    print('Precision Score at threshold {0} is {1}'.format(thresh,precision_score(y_test,(predictions>thresh).astype(int))))\n",
    "    precision.append(precision_score(y_test,(predictions>thresh).astype(int)))"
   ]
  },
  {
   "cell_type": "code",
   "execution_count": 12,
   "metadata": {},
   "outputs": [
    {
     "name": "stdout",
     "output_type": "stream",
     "text": [
      "F1 Score at threshold 0.0 is 0.14866760168302945\n",
      "F1 Score at threshold 0.01 is 0.29201101928374656\n",
      "F1 Score at threshold 0.02 is 0.3375796178343949\n",
      "F1 Score at threshold 0.03 is 0.3701067615658363\n",
      "F1 Score at threshold 0.04 is 0.3834586466165414\n",
      "F1 Score at threshold 0.05 is 0.4096385542168675\n",
      "F1 Score at threshold 0.06 is 0.4066390041493776\n",
      "F1 Score at threshold 0.07 is 0.4279475982532751\n",
      "F1 Score at threshold 0.08 is 0.4434389140271493\n",
      "F1 Score at threshold 0.09 is 0.4622641509433963\n",
      "F1 Score at threshold 0.1 is 0.4711538461538461\n",
      "F1 Score at threshold 0.11 is 0.4875621890547263\n",
      "F1 Score at threshold 0.12 is 0.4948453608247423\n",
      "F1 Score at threshold 0.13 is 0.5081081081081082\n",
      "F1 Score at threshold 0.14 is 0.5136612021857924\n",
      "F1 Score at threshold 0.15 is 0.5164835164835164\n",
      "F1 Score at threshold 0.16 is 0.5111111111111112\n",
      "F1 Score at threshold 0.17 is 0.5202312138728323\n",
      "F1 Score at threshold 0.18 is 0.5202312138728323\n",
      "F1 Score at threshold 0.19 is 0.5207100591715977\n",
      "F1 Score at threshold 0.2 is 0.5276073619631902\n",
      "F1 Score at threshold 0.21 is 0.5375000000000001\n",
      "F1 Score at threshold 0.22 is 0.5316455696202531\n",
      "F1 Score at threshold 0.23 is 0.5350318471337578\n",
      "F1 Score at threshold 0.24 is 0.5419354838709677\n",
      "F1 Score at threshold 0.25 is 0.5333333333333333\n",
      "F1 Score at threshold 0.26 is 0.5405405405405406\n",
      "F1 Score at threshold 0.27 is 0.5416666666666666\n",
      "F1 Score at threshold 0.28 is 0.5531914893617021\n",
      "F1 Score at threshold 0.29 is 0.5401459854014599\n",
      "F1 Score at threshold 0.3 is 0.5333333333333333\n",
      "F1 Score at threshold 0.31 is 0.5384615384615384\n",
      "F1 Score at threshold 0.32 is 0.5426356589147286\n",
      "F1 Score at threshold 0.33 is 0.546875\n",
      "F1 Score at threshold 0.34 is 0.546875\n",
      "F1 Score at threshold 0.35 is 0.546875\n",
      "F1 Score at threshold 0.36 is 0.5279999999999999\n",
      "F1 Score at threshold 0.37 is 0.5365853658536586\n",
      "F1 Score at threshold 0.38 is 0.5454545454545455\n",
      "F1 Score at threshold 0.39 is 0.5454545454545455\n",
      "F1 Score at threshold 0.4 is 0.5454545454545455\n",
      "F1 Score at threshold 0.41 is 0.5546218487394957\n",
      "F1 Score at threshold 0.42 is 0.5546218487394957\n",
      "F1 Score at threshold 0.43 is 0.5546218487394957\n",
      "F1 Score at threshold 0.44 is 0.5423728813559323\n",
      "F1 Score at threshold 0.45 is 0.5470085470085471\n",
      "F1 Score at threshold 0.46 is 0.5614035087719299\n",
      "F1 Score at threshold 0.47 is 0.5663716814159292\n",
      "F1 Score at threshold 0.48 is 0.5714285714285714\n",
      "F1 Score at threshold 0.49 is 0.5714285714285714\n",
      "F1 Score at threshold 0.5 is 0.5818181818181818\n",
      "F1 Score at threshold 0.51 is 0.5871559633027522\n",
      "F1 Score at threshold 0.52 is 0.5925925925925926\n",
      "F1 Score at threshold 0.53 is 0.5981308411214954\n",
      "F1 Score at threshold 0.54 is 0.6037735849056604\n",
      "F1 Score at threshold 0.55 is 0.6019417475728155\n",
      "F1 Score at threshold 0.56 is 0.588235294117647\n",
      "F1 Score at threshold 0.57 is 0.588235294117647\n",
      "F1 Score at threshold 0.58 is 0.588235294117647\n",
      "F1 Score at threshold 0.59 is 0.594059405940594\n",
      "F1 Score at threshold 0.6 is 0.594059405940594\n",
      "F1 Score at threshold 0.61 is 0.6\n",
      "F1 Score at threshold 0.62 is 0.6122448979591837\n",
      "F1 Score at threshold 0.63 is 0.6122448979591837\n",
      "F1 Score at threshold 0.64 is 0.625\n",
      "F1 Score at threshold 0.65 is 0.6170212765957447\n",
      "F1 Score at threshold 0.66 is 0.6170212765957447\n",
      "F1 Score at threshold 0.67 is 0.6236559139784946\n",
      "F1 Score at threshold 0.68 is 0.6236559139784946\n",
      "F1 Score at threshold 0.69 is 0.6236559139784946\n",
      "F1 Score at threshold 0.7 is 0.6236559139784946\n",
      "F1 Score at threshold 0.71 is 0.6304347826086957\n",
      "F1 Score at threshold 0.72 is 0.6067415730337078\n",
      "F1 Score at threshold 0.73 is 0.5909090909090909\n",
      "F1 Score at threshold 0.74 is 0.5813953488372093\n",
      "F1 Score at threshold 0.75 is 0.588235294117647\n",
      "F1 Score at threshold 0.76 is 0.5783132530120482\n",
      "F1 Score at threshold 0.77 is 0.5853658536585366\n",
      "F1 Score at threshold 0.78 is 0.6\n",
      "F1 Score at threshold 0.79 is 0.5897435897435898\n",
      "F1 Score at threshold 0.8 is 0.5526315789473684\n",
      "F1 Score at threshold 0.81 is 0.5333333333333334\n",
      "F1 Score at threshold 0.82 is 0.5333333333333334\n",
      "F1 Score at threshold 0.83 is 0.5333333333333334\n",
      "F1 Score at threshold 0.84 is 0.5333333333333334\n",
      "F1 Score at threshold 0.85 is 0.5333333333333334\n",
      "F1 Score at threshold 0.86 is 0.5333333333333334\n",
      "F1 Score at threshold 0.87 is 0.4931506849315068\n",
      "F1 Score at threshold 0.88 is 0.4931506849315068\n",
      "F1 Score at threshold 0.89 is 0.4931506849315068\n"
     ]
    }
   ],
   "source": [
    "f1 = []\n",
    "for thresh in np.arange(0,0.9,0.01):\n",
    "    thresh = np.round(thresh,2)\n",
    "    print('F1 Score at threshold {0} is {1}'.format(thresh,f1_score(y_test,(predictions>thresh).astype(int))))\n",
    "    f1.append(f1_score(y_test,(predictions>thresh).astype(int)))"
   ]
  },
  {
   "cell_type": "code",
   "execution_count": 13,
   "metadata": {
    "collapsed": true
   },
   "outputs": [],
   "source": [
    "import matplotlib.pyplot as plt\n",
    "%matplotlib inline"
   ]
  },
  {
   "cell_type": "code",
   "execution_count": 14,
   "metadata": {},
   "outputs": [
    {
     "data": {
      "image/png": "[encoded data removed]",
      "text/plain": [
       "<matplotlib.figure.Figure at 0x13e6242c240>"
      ]
     },
     "metadata": {},
     "output_type": "display_data"
    }
   ],
   "source": [
    "x_axis = range(len(f1))\n",
    "plt.plot(x_axis,recall,label = 'Recall')\n",
    "plt.plot(x_axis,precision,label = 'Precision')\n",
    "plt.plot(x_axis,f1,label = 'F1 Score')\n",
    "plt.legend()\n",
    "\n",
    "plt.show()"
   ]
  },
  {
   "cell_type": "code",
   "execution_count": 15,
   "metadata": {
    "collapsed": true
   },
   "outputs": [],
   "source": [
    "import numpy as np\n",
    "from sklearn.metrics import roc_curve"
   ]
  },
  {
   "cell_type": "code",
   "execution_count": 16,
   "metadata": {
    "collapsed": true
   },
   "outputs": [],
   "source": [
    "y_test = df['True Label'].values\n",
    "y_score = df['Model Prediction'].values"
   ]
  },
  {
   "cell_type": "code",
   "execution_count": 17,
   "metadata": {
    "collapsed": true
   },
   "outputs": [],
   "source": [
    "fpr_keras, tpr_keras, thresholds_keras = roc_curve(y_test, df['Model Prediction'].ravel())"
   ]
  },
  {
   "cell_type": "code",
   "execution_count": 18,
   "metadata": {
    "collapsed": true
   },
   "outputs": [],
   "source": [
    "from sklearn.metrics import auc,roc_auc_score\n",
    "auc_keras = auc(fpr_keras, tpr_keras)"
   ]
  },
  {
   "cell_type": "code",
   "execution_count": 20,
   "metadata": {},
   "outputs": [
    {
     "data": {
      "text/plain": [
       "0.9449970470299338"
      ]
     },
     "execution_count": 20,
     "metadata": {},
     "output_type": "execute_result"
    }
   ],
   "source": [
    "auc_keras"
   ]
  },
  {
   "cell_type": "code",
   "execution_count": 21,
   "metadata": {},
   "outputs": [
    {
     "data": {
      "text/plain": [
       "<matplotlib.axes._subplots.AxesSubplot at 0x13e63abc5f8>"
      ]
     },
     "execution_count": 21,
     "metadata": {},
     "output_type": "execute_result"
    },
    {
     "data": {
      "image/png": "[encoded data removed]",
      "text/plain": [
       "<matplotlib.figure.Figure at 0x13e620826a0>"
      ]
     },
     "metadata": {},
     "output_type": "display_data"
    }
   ],
   "source": [
    "import seaborn as sns\n",
    "\n",
    "sns.distplot( df[df['True Label'] == 1][\"Model Prediction\"], color = 'b' )\n",
    "sns.distplot( df[df['True Label'] == 0][\"Model Prediction\"], color = 'g' )"
   ]
  },
  {
   "cell_type": "code",
   "execution_count": 25,
   "metadata": {},
   "outputs": [
    {
     "name": "stdout",
     "output_type": "stream",
     "text": [
      "Best Threshold=0.117820, G-Mean=0.884\n"
     ]
    }
   ],
   "source": [
    "gmeans = np.sqrt(tpr_keras * (1-fpr_keras))\n",
    "ix = np.argmax(gmeans)\n",
    "print('Best Threshold=%f, G-Mean=%.3f' % (thresholds_keras[ix], gmeans[ix]))"
   ]
  },
  {
   "cell_type": "code",
   "execution_count": 53,
   "metadata": {},
   "outputs": [
    {
     "data": {
      "image/png": "[encoded data removed]",
      "text/plain": [
       "<matplotlib.figure.Figure at 0x13e65def6d8>"
      ]
     },
     "metadata": {},
     "output_type": "display_data"
    }
   ],
   "source": [
    "plt.figure(1)\n",
    "plt.plot([0, 1], [0, 1], 'k--')\n",
    "plt.plot(fpr_keras, tpr_keras, label='Urgency (area = {:.3f})'.format(auc_keras))\n",
    "plt.xlabel('False positive rate')\n",
    "plt.ylabel('True positive rate')\n",
    "plt.title('ROC curve')\n",
    "plt.legend(loc='best')\n",
    "plt.show()"
   ]
  },
  {
   "cell_type": "code",
   "execution_count": 77,
   "metadata": {},
   "outputs": [
    {
     "data": {
      "text/plain": [
       "0.7696683348357216"
      ]
     },
     "execution_count": 77,
     "metadata": {},
     "output_type": "execute_result"
    }
   ],
   "source": [
    "diff_TPRFPR=tpr_keras-fpr_keras\n",
    "KS=max(diff_TPRFPR)\n",
    "KS"
   ]
  },
  {
   "cell_type": "code",
   "execution_count": 36,
   "metadata": {},
   "outputs": [
    {
     "data": {
      "text/plain": [
       "0.117819622"
      ]
     },
     "execution_count": 36,
     "metadata": {},
     "output_type": "execute_result"
    }
   ],
   "source": [
    "ks = []\n",
    "for i in range(len(tpr_keras)):\n",
    "    ks.append(tpr_keras[i]-fpr_keras[i])\n",
    "thresholds_keras[np.argmax(ks)]"
   ]
  },
  {
   "cell_type": "code",
   "execution_count": 56,
   "metadata": {},
   "outputs": [
    {
     "data": {
      "image/png": "[encoded data removed]",
      "text/plain": [
       "<matplotlib.figure.Figure at 0x13e65f8c5c0>"
      ]
     },
     "metadata": {},
     "output_type": "display_data"
    }
   ],
   "source": [
    "plt.plot(range(len(tpr_keras)),tpr_keras,label = 'TPR')\n",
    "plt.plot(range(len(fpr_keras)),fpr_keras,label = 'FPR')\n",
    "#plt.axvline(x=(thresholds_keras[np.argmax(ks)])*100)\n",
    "plt.legend()\n",
    "plt.show()"
   ]
  },
  {
   "cell_type": "code",
   "execution_count": 58,
   "metadata": {
    "collapsed": true
   },
   "outputs": [],
   "source": [
    "def encoding(text):\n",
    "    if text>0.5:\n",
    "        return 1\n",
    "    else:\n",
    "        return 0\n",
    "df['Prediction Encoded'] = df['Model Prediction'].apply(encoding)"
   ]
  },
  {
   "cell_type": "code",
   "execution_count": 59,
   "metadata": {},
   "outputs": [
    {
     "name": "stdout",
     "output_type": "stream",
     "text": [
      "[[582  25]\n",
      " [ 21  32]]\n"
     ]
    }
   ],
   "source": [
    "print(confusion_matrix(df['True Label'],df['Prediction Encoded']))"
   ]
  },
  {
   "cell_type": "code",
   "execution_count": 60,
   "metadata": {},
   "outputs": [
    {
     "name": "stdout",
     "output_type": "stream",
     "text": [
      "              precision    recall  f1-score   support\n",
      "\n",
      "           0       0.97      0.96      0.96       607\n",
      "           1       0.56      0.60      0.58        53\n",
      "\n",
      "    accuracy                           0.93       660\n",
      "   macro avg       0.76      0.78      0.77       660\n",
      "weighted avg       0.93      0.93      0.93       660\n",
      "\n"
     ]
    }
   ],
   "source": [
    "print(classification_report(df['True Label'],df['Prediction Encoded']))"
   ]
  },
  {
   "cell_type": "code",
   "execution_count": 54,
   "metadata": {},
   "outputs": [
    {
     "name": "stdout",
     "output_type": "stream",
     "text": [
      "              precision    recall  f1-score   support\n",
      "\n",
      "           0       0.99      0.85      0.91       607\n",
      "           1       0.34      0.92      0.50        53\n",
      "\n",
      "    accuracy                           0.85       660\n",
      "   macro avg       0.67      0.88      0.71       660\n",
      "weighted avg       0.94      0.85      0.88       660\n",
      "\n"
     ]
    }
   ],
   "source": [
    "def encoding(text):\n",
    "    if text>0.117:\n",
    "        return 1\n",
    "    else:\n",
    "        return 0\n",
    "df['Prediction Encoded'] = df['Model Prediction'].apply(encoding)\n",
    "\n",
    "print(classification_report(df['True Label'],df['Prediction Encoded']))"
   ]
  },
  {
   "cell_type": "code",
   "execution_count": 55,
   "metadata": {},
   "outputs": [
    {
     "name": "stdout",
     "output_type": "stream",
     "text": [
      "Best Threshold=0.117820\n"
     ]
    }
   ],
   "source": [
    "J = tpr_keras - fpr_keras\n",
    "ix = np.argmax(J)\n",
    "best_thresh = thresholds_keras[ix]\n",
    "print('Best Threshold=%f' % (best_thresh))"
   ]
  },
  {
   "cell_type": "code",
   "execution_count": null,
   "metadata": {
    "collapsed": true
   },
   "outputs": [],
   "source": []
  }
 ],
 "metadata": {
  "kernelspec": {
   "display_name": "Python 3",
   "language": "python",
   "name": "python3"
  },
  "language_info": {
   "codemirror_mode": {
    "name": "ipython",
    "version": 3
   },
   "file_extension": ".py",
   "mimetype": "text/x-python",
   "name": "python",
   "nbconvert_exporter": "python",
   "pygments_lexer": "ipython3",
   "version": "3.6.1"
  }
 },
 "nbformat": 4,
 "nbformat_minor": 2
}
